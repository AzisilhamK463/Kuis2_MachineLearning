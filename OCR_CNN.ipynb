{
  "nbformat": 4,
  "nbformat_minor": 0,
  "metadata": {
    "colab": {
      "provenance": [],
      "gpuType": "T4",
      "include_colab_link": true
    },
    "kernelspec": {
      "name": "python3",
      "display_name": "Python 3"
    },
    "language_info": {
      "name": "python"
    },
    "accelerator": "GPU"
  },
  "cells": [
    {
      "cell_type": "markdown",
      "metadata": {
        "id": "view-in-github",
        "colab_type": "text"
      },
      "source": [
        "<a href=\"https://colab.research.google.com/github/AzisilhamK463/Kuis2_MachineLearning/blob/main/OCR_CNN.ipynb\" target=\"_parent\"><img src=\"https://colab.research.google.com/assets/colab-badge.svg\" alt=\"Open In Colab\"/></a>"
      ]
    },
    {
      "cell_type": "markdown",
      "source": [
        "# Kuis 2\n",
        "\n",
        "###Nama: Azis Ilham Kurniawan\n",
        "\n",
        "###NIM: 2141720145\n",
        "\n",
        "###Kelas: TI - 3F"
      ],
      "metadata": {
        "id": "6QpDCVYv4mjV"
      }
    },
    {
      "cell_type": "markdown",
      "source": [
        "# Import Library"
      ],
      "metadata": {
        "id": "fLV1Z5_Za3Ni"
      }
    },
    {
      "cell_type": "code",
      "execution_count": null,
      "metadata": {
        "id": "TUhYpAeEarrV"
      },
      "outputs": [],
      "source": [
        "import tensorflow as tf # Library yang digunakan untuk membangun dan melatih model kecerdasan buatan\n",
        "import numpy as np # Sebagai library komputasi matematika dan pengelolaan array multidimensional\n",
        "import pandas as pd # Berguna dalam import file seperti csv maupun excel dan membantu dalam manipulasi serte pengelolaan data dengan struktur DataFrame\n",
        "import matplotlib.pyplot as plt # Membantu dalam memvisualisasikan data\n",
        "import seaborn as sns # Berguna dalam kustomisasi plot dalam pyplot\n",
        "from sklearn.preprocessing import LabelBinarizer # Kelas yang digunakan untuk melakukan one-hot encoding terhadap data label kategorikal\n",
        "from sklearn.model_selection import train_test_split # Menunjang pembagian dataset menjadi data training dan data test\n",
        "from sklearn.metrics import classification_report # Fungsi ini berguna untuk mengevaluasi kinerja model klasifikasi multikelas\n",
        "import zipfile # Library yang membantu dalam ekstraksi file .zip"
      ]
    },
    {
      "cell_type": "markdown",
      "source": [
        "# Load Dataset"
      ],
      "metadata": {
        "id": "N95oXMaTcnMH"
      }
    },
    {
      "cell_type": "markdown",
      "source": [
        "## Load MNIST"
      ],
      "metadata": {
        "id": "dT8TY908cpCK"
      }
    },
    {
      "cell_type": "code",
      "source": [
        "from tensorflow.keras.datasets import mnist # Mengimport dataset"
      ],
      "metadata": {
        "id": "OIZx2pkUcfDe"
      },
      "execution_count": null,
      "outputs": []
    },
    {
      "cell_type": "code",
      "source": [
        "(train_data, train_labels), (test_data, test_labels) = mnist.load_data() # Memuat dataset mnist dan menyimpannya dalam keempat variabel tersebut"
      ],
      "metadata": {
        "id": "3GLkzBi6czj4",
        "colab": {
          "base_uri": "https://localhost:8080/"
        },
        "outputId": "e14f88a6-3ef2-439c-a0d7-389a4f7fd7f1"
      },
      "execution_count": null,
      "outputs": [
        {
          "output_type": "stream",
          "name": "stdout",
          "text": [
            "Downloading data from https://storage.googleapis.com/tensorflow/tf-keras-datasets/mnist.npz\n",
            "11490434/11490434 [==============================] - 0s 0us/step\n"
          ]
        }
      ]
    },
    {
      "cell_type": "code",
      "source": [
        "# Check shape data\n",
        "(train_data.shape, test_data.shape) # Menampilkan ukuran dan dimensi data"
      ],
      "metadata": {
        "id": "oVQTyPgAc5Zw",
        "colab": {
          "base_uri": "https://localhost:8080/"
        },
        "outputId": "da23b19c-2a0c-49b1-c2bd-62a5466bdb2f"
      },
      "execution_count": null,
      "outputs": [
        {
          "output_type": "execute_result",
          "data": {
            "text/plain": [
              "((60000, 28, 28), (10000, 28, 28))"
            ]
          },
          "metadata": {},
          "execution_count": 4
        }
      ]
    },
    {
      "cell_type": "code",
      "source": [
        "# Check shape labels\n",
        "(train_labels.shape, test_labels.shape) # Menampilkan ukuran dan dimensi label"
      ],
      "metadata": {
        "id": "grUhLPwJc-un",
        "colab": {
          "base_uri": "https://localhost:8080/"
        },
        "outputId": "ebc80a4c-e797-4e8f-cb1a-dc73cabb6b3c"
      },
      "execution_count": null,
      "outputs": [
        {
          "output_type": "execute_result",
          "data": {
            "text/plain": [
              "((60000,), (10000,))"
            ]
          },
          "metadata": {},
          "execution_count": 5
        }
      ]
    },
    {
      "cell_type": "code",
      "source": [
        "# Check each data shape --> should be 28*28\n",
        "train_data[0].shape # Menampilkan ukuran data pertama dari train_data"
      ],
      "metadata": {
        "id": "AwsTEu6xdNKX",
        "colab": {
          "base_uri": "https://localhost:8080/"
        },
        "outputId": "f1317766-135d-4fba-b223-aabf88837636"
      },
      "execution_count": null,
      "outputs": [
        {
          "output_type": "execute_result",
          "data": {
            "text/plain": [
              "(28, 28)"
            ]
          },
          "metadata": {},
          "execution_count": 6
        }
      ]
    },
    {
      "cell_type": "code",
      "source": [
        "# Check the label\n",
        "train_labels.shape # Menampilkan ukuran data pertama dari train_labels"
      ],
      "metadata": {
        "id": "KHZesdnBdXKX",
        "colab": {
          "base_uri": "https://localhost:8080/"
        },
        "outputId": "edee88d7-62d2-44bb-ed66-456bea380aa3"
      },
      "execution_count": null,
      "outputs": [
        {
          "output_type": "execute_result",
          "data": {
            "text/plain": [
              "(60000,)"
            ]
          },
          "metadata": {},
          "execution_count": 7
        }
      ]
    },
    {
      "cell_type": "markdown",
      "source": [
        "### Combine Train and Test Data"
      ],
      "metadata": {
        "id": "SYz8IjnOdfsV"
      }
    },
    {
      "cell_type": "code",
      "source": [
        "digits_data = np.vstack([train_data, test_data]) # Menggabungkan data train_data dan test_data dalam array secara vertikal\n",
        "digits_labels = np.hstack([train_labels, test_labels]) # Menggabungkan data train_label dan test_label dalam array secara horizontal"
      ],
      "metadata": {
        "id": "yacSZjdPdbhs"
      },
      "execution_count": null,
      "outputs": []
    },
    {
      "cell_type": "code",
      "source": [
        "# Check data shape\n",
        "digits_data.shape # Menampilkan ukuran dan dimensi digits_data"
      ],
      "metadata": {
        "id": "oRBvQNVUeHZn",
        "colab": {
          "base_uri": "https://localhost:8080/"
        },
        "outputId": "53aa85c6-1e9a-496d-f6c4-537333cff442"
      },
      "execution_count": null,
      "outputs": [
        {
          "output_type": "execute_result",
          "data": {
            "text/plain": [
              "(70000, 28, 28)"
            ]
          },
          "metadata": {},
          "execution_count": 9
        }
      ]
    },
    {
      "cell_type": "code",
      "source": [
        "# Check label shape\n",
        "digits_labels.shape # Menampilkan ukuran dan dimensi digits_labels"
      ],
      "metadata": {
        "id": "MZbUcu0MeLSG",
        "colab": {
          "base_uri": "https://localhost:8080/"
        },
        "outputId": "415ab0e2-3533-40f2-ccc7-c9552d2817b0"
      },
      "execution_count": null,
      "outputs": [
        {
          "output_type": "execute_result",
          "data": {
            "text/plain": [
              "(70000,)"
            ]
          },
          "metadata": {},
          "execution_count": 10
        }
      ]
    },
    {
      "cell_type": "code",
      "source": [
        "# Randomly checking the data\n",
        "idx = np.random.randint(0, digits_data.shape[0]) # Menentukan angka indeks acak berdasarkan panjang digits_data\n",
        "plt.imshow(digits_data[idx], cmap='gray') # Menampilkan data dengan citra abu abu\n",
        "plt.title('Class: ' + str(digits_labels[idx])) # Menambahkan judul pada plot"
      ],
      "metadata": {
        "id": "uqaiC0pGePF-",
        "colab": {
          "base_uri": "https://localhost:8080/",
          "height": 469
        },
        "outputId": "813db144-434b-49b6-9415-2ba6e6609c22"
      },
      "execution_count": null,
      "outputs": [
        {
          "output_type": "execute_result",
          "data": {
            "text/plain": [
              "Text(0.5, 1.0, 'Class: 0')"
            ]
          },
          "metadata": {},
          "execution_count": 11
        },
        {
          "output_type": "display_data",
          "data": {
            "text/plain": [
              "<Figure size 640x480 with 1 Axes>"
            ],
            "image/png": "[encoded data removed]"
          },
          "metadata": {}
        }
      ]
    },
    {
      "cell_type": "code",
      "source": [
        "# Check data distribution\n",
        "df_labels = pd.DataFrame(digits_labels, columns=['Labels']) # Mengubah digits_labels menjadi 1 kolom DataFrame dengan nama Labels\n",
        "sns.countplot(df_labels, x='Labels') # Menampilkan visualisasi data dengan x berupa labels dan y total atau count setiap label nya"
      ],
      "metadata": {
        "id": "FrLWteorevqd",
        "colab": {
          "base_uri": "https://localhost:8080/",
          "height": 466
        },
        "outputId": "5b636f8f-9f1b-4d0e-ff78-ba3524c01334"
      },
      "execution_count": null,
      "outputs": [
        {
          "output_type": "execute_result",
          "data": {
            "text/plain": [
              "<Axes: xlabel='Labels', ylabel='count'>"
            ]
          },
          "metadata": {},
          "execution_count": 12
        },
        {
          "output_type": "display_data",
          "data": {
            "text/plain": [
              "<Figure size 640x480 with 1 Axes>"
            ],
            "image/png": "[encoded data removed]"
          },
          "metadata": {}
        }
      ]
    },
    {
      "cell_type": "markdown",
      "source": [
        "## Load Kaggle A-Z"
      ],
      "metadata": {
        "id": "uqeJT2ytogB_"
      }
    },
    {
      "cell_type": "code",
      "source": [
        "!wget https://iaexpert.academy/arquivos/alfabeto_A-Z.zip # Download File"
      ],
      "metadata": {
        "id": "tQ95CkdfjO7P",
        "colab": {
          "base_uri": "https://localhost:8080/"
        },
        "outputId": "0ff6aba4-9118-4b68-8471-38665da5c11c"
      },
      "execution_count": null,
      "outputs": [
        {
          "output_type": "stream",
          "name": "stdout",
          "text": [
            "--2023-12-05 10:32:35--  https://iaexpert.academy/arquivos/alfabeto_A-Z.zip\n",
            "Resolving iaexpert.academy (iaexpert.academy)... 162.159.134.42\n",
            "Connecting to iaexpert.academy (iaexpert.academy)|162.159.134.42|:443... connected.\n",
            "HTTP request sent, awaiting response... 200 OK\n",
            "Length: 193643888 (185M) [application/zip]\n",
            "Saving to: ‘alfabeto_A-Z.zip’\n",
            "\n",
            "alfabeto_A-Z.zip    100%[===================>] 184.67M  98.0MB/s    in 1.9s    \n",
            "\n",
            "2023-12-05 10:32:37 (98.0 MB/s) - ‘alfabeto_A-Z.zip’ saved [193643888/193643888]\n",
            "\n"
          ]
        }
      ]
    },
    {
      "cell_type": "code",
      "source": [
        "# Extract zip file\n",
        "zip_object = zipfile.ZipFile(file = 'alfabeto_A-Z.zip', mode = 'r') # Membuka file zip dengan mode read\n",
        "zip_object.extractall('./') # Mengekstrak file di lokasi root\n",
        "zip_object.close() # Menutup dan menyelesaikan objek zip_object"
      ],
      "metadata": {
        "id": "TobpFNSsojcv"
      },
      "execution_count": null,
      "outputs": []
    },
    {
      "cell_type": "code",
      "source": [
        "dataset_az = pd.read_csv('A_Z Handwritten Data.csv').astype('float32') # Import file csv sebagai DataFrame dataset_az\n",
        "dataset_az # Menampilkan DataFrame dataset_az"
      ],
      "metadata": {
        "id": "ScBURU_4o5bB",
        "colab": {
          "base_uri": "https://localhost:8080/",
          "height": 424
        },
        "outputId": "29f213e2-60aa-4d64-d9e1-f5d05c939fa9"
      },
      "execution_count": null,
      "outputs": [
        {
          "output_type": "execute_result",
          "data": {
            "text/plain": [
              "           0  0.1  0.2  0.3  0.4  0.5  0.6  0.7  0.8  0.9  ...  0.639  0.640  \\\n",
              "0        0.0  0.0  0.0  0.0  0.0  0.0  0.0  0.0  0.0  0.0  ...    0.0    0.0   \n",
              "1        0.0  0.0  0.0  0.0  0.0  0.0  0.0  0.0  0.0  0.0  ...    0.0    0.0   \n",
              "2        0.0  0.0  0.0  0.0  0.0  0.0  0.0  0.0  0.0  0.0  ...    0.0    0.0   \n",
              "3        0.0  0.0  0.0  0.0  0.0  0.0  0.0  0.0  0.0  0.0  ...    0.0    0.0   \n",
              "4        0.0  0.0  0.0  0.0  0.0  0.0  0.0  0.0  0.0  0.0  ...    0.0    0.0   \n",
              "...      ...  ...  ...  ...  ...  ...  ...  ...  ...  ...  ...    ...    ...   \n",
              "372445  25.0  0.0  0.0  0.0  0.0  0.0  0.0  0.0  0.0  0.0  ...    0.0    0.0   \n",
              "372446  25.0  0.0  0.0  0.0  0.0  0.0  0.0  0.0  0.0  0.0  ...    0.0    0.0   \n",
              "372447  25.0  0.0  0.0  0.0  0.0  0.0  0.0  0.0  0.0  0.0  ...    0.0    0.0   \n",
              "372448  25.0  0.0  0.0  0.0  0.0  0.0  0.0  0.0  0.0  0.0  ...    0.0    0.0   \n",
              "372449  25.0  0.0  0.0  0.0  0.0  0.0  0.0  0.0  0.0  0.0  ...    0.0    0.0   \n",
              "\n",
              "        0.641  0.642  0.643  0.644  0.645  0.646  0.647  0.648  \n",
              "0         0.0    0.0    0.0    0.0    0.0    0.0    0.0    0.0  \n",
              "1         0.0    0.0    0.0    0.0    0.0    0.0    0.0    0.0  \n",
              "2         0.0    0.0    0.0    0.0    0.0    0.0    0.0    0.0  \n",
              "3         0.0    0.0    0.0    0.0    0.0    0.0    0.0    0.0  \n",
              "4         0.0    0.0    0.0    0.0    0.0    0.0    0.0    0.0  \n",
              "...       ...    ...    ...    ...    ...    ...    ...    ...  \n",
              "372445    0.0    0.0    0.0    0.0    0.0    0.0    0.0    0.0  \n",
              "372446    0.0    0.0    0.0    0.0    0.0    0.0    0.0    0.0  \n",
              "372447    0.0    0.0    0.0    0.0    0.0    0.0    0.0    0.0  \n",
              "372448    0.0    0.0    0.0    0.0    0.0    0.0    0.0    0.0  \n",
              "372449    0.0    0.0    0.0    0.0    0.0    0.0    0.0    0.0  \n",
              "\n",
              "[372450 rows x 785 columns]"
            ],
            "text/html": [
              "\n",
              "  <div id=\"df-0a63160f-04f3-4eac-a9eb-c715ff060a12\" class=\"colab-df-container\">\n",
              "    <div>\n",
              "<style scoped>\n",
              "    .dataframe tbody tr th:only-of-type {\n",
              "        vertical-align: middle;\n",
              "    }\n",
              "\n",
              "    .dataframe tbody tr th {\n",
              "        vertical-align: top;\n",
              "    }\n",
              "\n",
              "    .dataframe thead th {\n",
              "        text-align: right;\n",
              "    }\n",
              "</style>\n",
              "<table border=\"1\" class=\"dataframe\">\n",
              "  <thead>\n",
              "    <tr style=\"text-align: right;\">\n",
              "      <th></th>\n",
              "      <th>0</th>\n",
              "      <th>0.1</th>\n",
              "      <th>0.2</th>\n",
              "      <th>0.3</th>\n",
              "      <th>0.4</th>\n",
              "      <th>0.5</th>\n",
              "      <th>0.6</th>\n",
              "      <th>0.7</th>\n",
              "      <th>0.8</th>\n",
              "      <th>0.9</th>\n",
              "      <th>...</th>\n",
              "      <th>0.639</th>\n",
              "      <th>0.640</th>\n",
              "      <th>0.641</th>\n",
              "      <th>0.642</th>\n",
              "      <th>0.643</th>\n",
              "      <th>0.644</th>\n",
              "      <th>0.645</th>\n",
              "      <th>0.646</th>\n",
              "      <th>0.647</th>\n",
              "      <th>0.648</th>\n",
              "    </tr>\n",
              "  </thead>\n",
              "  <tbody>\n",
              "    <tr>\n",
              "      <th>0</th>\n",
              "      <td>0.0</td>\n",
              "      <td>0.0</td>\n",
              "      <td>0.0</td>\n",
              "      <td>0.0</td>\n",
              "      <td>0.0</td>\n",
              "      <td>0.0</td>\n",
              "      <td>0.0</td>\n",
              "      <td>0.0</td>\n",
              "      <td>0.0</td>\n",
              "      <td>0.0</td>\n",
              "      <td>...</td>\n",
              "      <td>0.0</td>\n",
              "      <td>0.0</td>\n",
              "      <td>0.0</td>\n",
              "      <td>0.0</td>\n",
              "      <td>0.0</td>\n",
              "      <td>0.0</td>\n",
              "      <td>0.0</td>\n",
              "      <td>0.0</td>\n",
              "      <td>0.0</td>\n",
              "      <td>0.0</td>\n",
              "    </tr>\n",
              "    <tr>\n",
              "      <th>1</th>\n",
              "      <td>0.0</td>\n",
              "      <td>0.0</td>\n",
              "      <td>0.0</td>\n",
              "      <td>0.0</td>\n",
              "      <td>0.0</td>\n",
              "      <td>0.0</td>\n",
              "      <td>0.0</td>\n",
              "      <td>0.0</td>\n",
              "      <td>0.0</td>\n",
              "      <td>0.0</td>\n",
              "      <td>...</td>\n",
              "      <td>0.0</td>\n",
              "      <td>0.0</td>\n",
              "      <td>0.0</td>\n",
              "      <td>0.0</td>\n",
              "      <td>0.0</td>\n",
              "      <td>0.0</td>\n",
              "      <td>0.0</td>\n",
              "      <td>0.0</td>\n",
              "      <td>0.0</td>\n",
              "      <td>0.0</td>\n",
              "    </tr>\n",
              "    <tr>\n",
              "      <th>2</th>\n",
              "      <td>0.0</td>\n",
              "      <td>0.0</td>\n",
              "      <td>0.0</td>\n",
              "      <td>0.0</td>\n",
              "      <td>0.0</td>\n",
              "      <td>0.0</td>\n",
              "      <td>0.0</td>\n",
              "      <td>0.0</td>\n",
              "      <td>0.0</td>\n",
              "      <td>0.0</td>\n",
              "      <td>...</td>\n",
              "      <td>0.0</td>\n",
              "      <td>0.0</td>\n",
              "      <td>0.0</td>\n",
              "      <td>0.0</td>\n",
              "      <td>0.0</td>\n",
              "      <td>0.0</td>\n",
              "      <td>0.0</td>\n",
              "      <td>0.0</td>\n",
              "      <td>0.0</td>\n",
              "      <td>0.0</td>\n",
              "    </tr>\n",
              "    <tr>\n",
              "      <th>3</th>\n",
              "      <td>0.0</td>\n",
              "      <td>0.0</td>\n",
              "      <td>0.0</td>\n",
              "      <td>0.0</td>\n",
              "      <td>0.0</td>\n",
              "      <td>0.0</td>\n",
              "      <td>0.0</td>\n",
              "      <td>0.0</td>\n",
              "      <td>0.0</td>\n",
              "      <td>0.0</td>\n",
              "      <td>...</td>\n",
              "      <td>0.0</td>\n",
              "      <td>0.0</td>\n",
              "      <td>0.0</td>\n",
              "      <td>0.0</td>\n",
              "      <td>0.0</td>\n",
              "      <td>0.0</td>\n",
              "      <td>0.0</td>\n",
              "      <td>0.0</td>\n",
              "      <td>0.0</td>\n",
              "      <td>0.0</td>\n",
              "    </tr>\n",
              "    <tr>\n",
              "      <th>4</th>\n",
              "      <td>0.0</td>\n",
              "      <td>0.0</td>\n",
              "      <td>0.0</td>\n",
              "      <td>0.0</td>\n",
              "      <td>0.0</td>\n",
              "      <td>0.0</td>\n",
              "      <td>0.0</td>\n",
              "      <td>0.0</td>\n",
              "      <td>0.0</td>\n",
              "      <td>0.0</td>\n",
              "      <td>...</td>\n",
              "      <td>0.0</td>\n",
              "      <td>0.0</td>\n",
              "      <td>0.0</td>\n",
              "      <td>0.0</td>\n",
              "      <td>0.0</td>\n",
              "      <td>0.0</td>\n",
              "      <td>0.0</td>\n",
              "      <td>0.0</td>\n",
              "      <td>0.0</td>\n",
              "      <td>0.0</td>\n",
              "    </tr>\n",
              "    <tr>\n",
              "      <th>...</th>\n",
              "      <td>...</td>\n",
              "      <td>...</td>\n",
              "      <td>...</td>\n",
              "      <td>...</td>\n",
              "      <td>...</td>\n",
              "      <td>...</td>\n",
              "      <td>...</td>\n",
              "      <td>...</td>\n",
              "      <td>...</td>\n",
              "      <td>...</td>\n",
              "      <td>...</td>\n",
              "      <td>...</td>\n",
              "      <td>...</td>\n",
              "      <td>...</td>\n",
              "      <td>...</td>\n",
              "      <td>...</td>\n",
              "      <td>...</td>\n",
              "      <td>...</td>\n",
              "      <td>...</td>\n",
              "      <td>...</td>\n",
              "      <td>...</td>\n",
              "    </tr>\n",
              "    <tr>\n",
              "      <th>372445</th>\n",
              "      <td>25.0</td>\n",
              "      <td>0.0</td>\n",
              "      <td>0.0</td>\n",
              "      <td>0.0</td>\n",
              "      <td>0.0</td>\n",
              "      <td>0.0</td>\n",
              "      <td>0.0</td>\n",
              "      <td>0.0</td>\n",
              "      <td>0.0</td>\n",
              "      <td>0.0</td>\n",
              "      <td>...</td>\n",
              "      <td>0.0</td>\n",
              "      <td>0.0</td>\n",
              "      <td>0.0</td>\n",
              "      <td>0.0</td>\n",
              "      <td>0.0</td>\n",
              "      <td>0.0</td>\n",
              "      <td>0.0</td>\n",
              "      <td>0.0</td>\n",
              "      <td>0.0</td>\n",
              "      <td>0.0</td>\n",
              "    </tr>\n",
              "    <tr>\n",
              "      <th>372446</th>\n",
              "      <td>25.0</td>\n",
              "      <td>0.0</td>\n",
              "      <td>0.0</td>\n",
              "      <td>0.0</td>\n",
              "      <td>0.0</td>\n",
              "      <td>0.0</td>\n",
              "      <td>0.0</td>\n",
              "      <td>0.0</td>\n",
              "      <td>0.0</td>\n",
              "      <td>0.0</td>\n",
              "      <td>...</td>\n",
              "      <td>0.0</td>\n",
              "      <td>0.0</td>\n",
              "      <td>0.0</td>\n",
              "      <td>0.0</td>\n",
              "      <td>0.0</td>\n",
              "      <td>0.0</td>\n",
              "      <td>0.0</td>\n",
              "      <td>0.0</td>\n",
              "      <td>0.0</td>\n",
              "      <td>0.0</td>\n",
              "    </tr>\n",
              "    <tr>\n",
              "      <th>372447</th>\n",
              "      <td>25.0</td>\n",
              "      <td>0.0</td>\n",
              "      <td>0.0</td>\n",
              "      <td>0.0</td>\n",
              "      <td>0.0</td>\n",
              "      <td>0.0</td>\n",
              "      <td>0.0</td>\n",
              "      <td>0.0</td>\n",
              "      <td>0.0</td>\n",
              "      <td>0.0</td>\n",
              "      <td>...</td>\n",
              "      <td>0.0</td>\n",
              "      <td>0.0</td>\n",
              "      <td>0.0</td>\n",
              "      <td>0.0</td>\n",
              "      <td>0.0</td>\n",
              "      <td>0.0</td>\n",
              "      <td>0.0</td>\n",
              "      <td>0.0</td>\n",
              "      <td>0.0</td>\n",
              "      <td>0.0</td>\n",
              "    </tr>\n",
              "    <tr>\n",
              "      <th>372448</th>\n",
              "      <td>25.0</td>\n",
              "      <td>0.0</td>\n",
              "      <td>0.0</td>\n",
              "      <td>0.0</td>\n",
              "      <td>0.0</td>\n",
              "      <td>0.0</td>\n",
              "      <td>0.0</td>\n",
              "      <td>0.0</td>\n",
              "      <td>0.0</td>\n",
              "      <td>0.0</td>\n",
              "      <td>...</td>\n",
              "      <td>0.0</td>\n",
              "      <td>0.0</td>\n",
              "      <td>0.0</td>\n",
              "      <td>0.0</td>\n",
              "      <td>0.0</td>\n",
              "      <td>0.0</td>\n",
              "      <td>0.0</td>\n",
              "      <td>0.0</td>\n",
              "      <td>0.0</td>\n",
              "      <td>0.0</td>\n",
              "    </tr>\n",
              "    <tr>\n",
              "      <th>372449</th>\n",
              "      <td>25.0</td>\n",
              "      <td>0.0</td>\n",
              "      <td>0.0</td>\n",
              "      <td>0.0</td>\n",
              "      <td>0.0</td>\n",
              "      <td>0.0</td>\n",
              "      <td>0.0</td>\n",
              "      <td>0.0</td>\n",
              "      <td>0.0</td>\n",
              "      <td>0.0</td>\n",
              "      <td>...</td>\n",
              "      <td>0.0</td>\n",
              "      <td>0.0</td>\n",
              "      <td>0.0</td>\n",
              "      <td>0.0</td>\n",
              "      <td>0.0</td>\n",
              "      <td>0.0</td>\n",
              "      <td>0.0</td>\n",
              "      <td>0.0</td>\n",
              "      <td>0.0</td>\n",
              "      <td>0.0</td>\n",
              "    </tr>\n",
              "  </tbody>\n",
              "</table>\n",
              "<p>372450 rows × 785 columns</p>\n",
              "</div>\n",
              "    <div class=\"colab-df-buttons\">\n",
              "\n",
              "  <div class=\"colab-df-container\">\n",
              "    <button class=\"colab-df-convert\" onclick=\"convertToInteractive('df-0a63160f-04f3-4eac-a9eb-c715ff060a12')\"\n",
              "            title=\"Convert this dataframe to an interactive table.\"\n",
              "            style=\"display:none;\">\n",
              "\n",
              "  <svg xmlns=\"http://www.w3.org/2000/svg\" height=\"24px\" viewBox=\"0 -960 960 960\">\n",
              "    <path d=\"M120-120v-720h720v720H120Zm60-500h600v-160H180v160Zm220 220h160v-160H400v160Zm0 220h160v-160H400v160ZM180-400h160v-160H180v160Zm440 0h160v-160H620v160ZM180-180h160v-160H180v160Zm440 0h160v-160H620v160Z\"/>\n",
              "  </svg>\n",
              "    </button>\n",
              "\n",
              "  <style>\n",
              "    .colab-df-container {\n",
              "      display:flex;\n",
              "      gap: 12px;\n",
              "    }\n",
              "\n",
              "    .colab-df-convert {\n",
              "      background-color: #E8F0FE;\n",
              "      border: none;\n",
              "      border-radius: 50%;\n",
              "      cursor: pointer;\n",
              "      display: none;\n",
              "      fill: #1967D2;\n",
              "      height: 32px;\n",
              "      padding: 0 0 0 0;\n",
              "      width: 32px;\n",
              "    }\n",
              "\n",
              "    .colab-df-convert:hover {\n",
              "      background-color: #E2EBFA;\n",
              "      box-shadow: 0px 1px 2px rgba(60, 64, 67, 0.3), 0px 1px 3px 1px rgba(60, 64, 67, 0.15);\n",
              "      fill: #174EA6;\n",
              "    }\n",
              "\n",
              "    .colab-df-buttons div {\n",
              "      margin-bottom: 4px;\n",
              "    }\n",
              "\n",
              "    [theme=dark] .colab-df-convert {\n",
              "      background-color: #3B4455;\n",
              "      fill: #D2E3FC;\n",
              "    }\n",
              "\n",
              "    [theme=dark] .colab-df-convert:hover {\n",
              "      background-color: #434B5C;\n",
              "      box-shadow: 0px 1px 3px 1px rgba(0, 0, 0, 0.15);\n",
              "      filter: drop-shadow(0px 1px 2px rgba(0, 0, 0, 0.3));\n",
              "      fill: #FFFFFF;\n",
              "    }\n",
              "  </style>\n",
              "\n",
              "    <script>\n",
              "      const buttonEl =\n",
              "        document.querySelector('#df-0a63160f-04f3-4eac-a9eb-c715ff060a12 button.colab-df-convert');\n",
              "      buttonEl.style.display =\n",
              "        google.colab.kernel.accessAllowed ? 'block' : 'none';\n",
              "\n",
              "      async function convertToInteractive(key) {\n",
              "        const element = document.querySelector('#df-0a63160f-04f3-4eac-a9eb-c715ff060a12');\n",
              "        const dataTable =\n",
              "          await google.colab.kernel.invokeFunction('convertToInteractive',\n",
              "                                                    [key], {});\n",
              "        if (!dataTable) return;\n",
              "\n",
              "        const docLinkHtml = 'Like what you see? Visit the ' +\n",
              "          '<a target=\"_blank\" href=https://colab.research.google.com/notebooks/data_table.ipynb>data table notebook</a>'\n",
              "          + ' to learn more about interactive tables.';\n",
              "        element.innerHTML = '';\n",
              "        dataTable['output_type'] = 'display_data';\n",
              "        await google.colab.output.renderOutput(dataTable, element);\n",
              "        const docLink = document.createElement('div');\n",
              "        docLink.innerHTML = docLinkHtml;\n",
              "        element.appendChild(docLink);\n",
              "      }\n",
              "    </script>\n",
              "  </div>\n",
              "\n",
              "\n",
              "<div id=\"df-4bad06fd-6f9c-458b-a008-9c845d295442\">\n",
              "  <button class=\"colab-df-quickchart\" onclick=\"quickchart('df-4bad06fd-6f9c-458b-a008-9c845d295442')\"\n",
              "            title=\"Suggest charts\"\n",
              "            style=\"display:none;\">\n",
              "\n",
              "<svg xmlns=\"http://www.w3.org/2000/svg\" height=\"24px\"viewBox=\"0 0 24 24\"\n",
              "     width=\"24px\">\n",
              "    <g>\n",
              "        <path d=\"M19 3H5c-1.1 0-2 .9-2 2v14c0 1.1.9 2 2 2h14c1.1 0 2-.9 2-2V5c0-1.1-.9-2-2-2zM9 17H7v-7h2v7zm4 0h-2V7h2v10zm4 0h-2v-4h2v4z\"/>\n",
              "    </g>\n",
              "</svg>\n",
              "  </button>\n",
              "\n",
              "<style>\n",
              "  .colab-df-quickchart {\n",
              "      --bg-color: #E8F0FE;\n",
              "      --fill-color: #1967D2;\n",
              "      --hover-bg-color: #E2EBFA;\n",
              "      --hover-fill-color: #174EA6;\n",
              "      --disabled-fill-color: #AAA;\n",
              "      --disabled-bg-color: #DDD;\n",
              "  }\n",
              "\n",
              "  [theme=dark] .colab-df-quickchart {\n",
              "      --bg-color: #3B4455;\n",
              "      --fill-color: #D2E3FC;\n",
              "      --hover-bg-color: #434B5C;\n",
              "      --hover-fill-color: #FFFFFF;\n",
              "      --disabled-bg-color: #3B4455;\n",
              "      --disabled-fill-color: #666;\n",
              "  }\n",
              "\n",
              "  .colab-df-quickchart {\n",
              "    background-color: var(--bg-color);\n",
              "    border: none;\n",
              "    border-radius: 50%;\n",
              "    cursor: pointer;\n",
              "    display: none;\n",
              "    fill: var(--fill-color);\n",
              "    height: 32px;\n",
              "    padding: 0;\n",
              "    width: 32px;\n",
              "  }\n",
              "\n",
              "  .colab-df-quickchart:hover {\n",
              "    background-color: var(--hover-bg-color);\n",
              "    box-shadow: 0 1px 2px rgba(60, 64, 67, 0.3), 0 1px 3px 1px rgba(60, 64, 67, 0.15);\n",
              "    fill: var(--button-hover-fill-color);\n",
              "  }\n",
              "\n",
              "  .colab-df-quickchart-complete:disabled,\n",
              "  .colab-df-quickchart-complete:disabled:hover {\n",
              "    background-color: var(--disabled-bg-color);\n",
              "    fill: var(--disabled-fill-color);\n",
              "    box-shadow: none;\n",
              "  }\n",
              "\n",
              "  .colab-df-spinner {\n",
              "    border: 2px solid var(--fill-color);\n",
              "    border-color: transparent;\n",
              "    border-bottom-color: var(--fill-color);\n",
              "    animation:\n",
              "      spin 1s steps(1) infinite;\n",
              "  }\n",
              "\n",
              "  @keyframes spin {\n",
              "    0% {\n",
              "      border-color: transparent;\n",
              "      border-bottom-color: var(--fill-color);\n",
              "      border-left-color: var(--fill-color);\n",
              "    }\n",
              "    20% {\n",
              "      border-color: transparent;\n",
              "      border-left-color: var(--fill-color);\n",
              "      border-top-color: var(--fill-color);\n",
              "    }\n",
              "    30% {\n",
              "      border-color: transparent;\n",
              "      border-left-color: var(--fill-color);\n",
              "      border-top-color: var(--fill-color);\n",
              "      border-right-color: var(--fill-color);\n",
              "    }\n",
              "    40% {\n",
              "      border-color: transparent;\n",
              "      border-right-color: var(--fill-color);\n",
              "      border-top-color: var(--fill-color);\n",
              "    }\n",
              "    60% {\n",
              "      border-color: transparent;\n",
              "      border-right-color: var(--fill-color);\n",
              "    }\n",
              "    80% {\n",
              "      border-color: transparent;\n",
              "      border-right-color: var(--fill-color);\n",
              "      border-bottom-color: var(--fill-color);\n",
              "    }\n",
              "    90% {\n",
              "      border-color: transparent;\n",
              "      border-bottom-color: var(--fill-color);\n",
              "    }\n",
              "  }\n",
              "</style>\n",
              "\n",
              "  <script>\n",
              "    async function quickchart(key) {\n",
              "      const quickchartButtonEl =\n",
              "        document.querySelector('#' + key + ' button');\n",
              "      quickchartButtonEl.disabled = true;  // To prevent multiple clicks.\n",
              "      quickchartButtonEl.classList.add('colab-df-spinner');\n",
              "      try {\n",
              "        const charts = await google.colab.kernel.invokeFunction(\n",
              "            'suggestCharts', [key], {});\n",
              "      } catch (error) {\n",
              "        console.error('Error during call to suggestCharts:', error);\n",
              "      }\n",
              "      quickchartButtonEl.classList.remove('colab-df-spinner');\n",
              "      quickchartButtonEl.classList.add('colab-df-quickchart-complete');\n",
              "    }\n",
              "    (() => {\n",
              "      let quickchartButtonEl =\n",
              "        document.querySelector('#df-4bad06fd-6f9c-458b-a008-9c845d295442 button');\n",
              "      quickchartButtonEl.style.display =\n",
              "        google.colab.kernel.accessAllowed ? 'block' : 'none';\n",
              "    })();\n",
              "  </script>\n",
              "</div>\n",
              "    </div>\n",
              "  </div>\n"
            ]
          },
          "metadata": {},
          "execution_count": 15
        }
      ]
    },
    {
      "cell_type": "code",
      "source": [
        "# Get pixel data only\n",
        "alphabet_data = dataset_az.drop('0', axis=1) # alphabet_data menyimpan data dataset_az dengan menghapus kolom 0\n",
        "# Get labels only\n",
        "alphabet_labels = dataset_az['0'] # Menyimpan data kolom 0 dataset_az"
      ],
      "metadata": {
        "id": "dK6pP0b-o81T"
      },
      "execution_count": null,
      "outputs": []
    },
    {
      "cell_type": "code",
      "source": [
        "# Check shape data\n",
        "alphabet_data.shape, alphabet_labels.shape # Menampilkan ukuran dan dimensi data alphabet_data dan alphabet_labels"
      ],
      "metadata": {
        "id": "NllEoaiLpZhI",
        "colab": {
          "base_uri": "https://localhost:8080/"
        },
        "outputId": "9a82a7b9-78c5-4ecf-99e2-be2cad757fae"
      },
      "execution_count": null,
      "outputs": [
        {
          "output_type": "execute_result",
          "data": {
            "text/plain": [
              "((372450, 784), (372450,))"
            ]
          },
          "metadata": {},
          "execution_count": 17
        }
      ]
    },
    {
      "cell_type": "code",
      "source": [
        "# Check shape labels\n",
        "alphabet_labels.shape # Menampilkan ukuran dan dimensi data alphabet_labels"
      ],
      "metadata": {
        "id": "UvE88zSkpe5e",
        "colab": {
          "base_uri": "https://localhost:8080/"
        },
        "outputId": "579f0e82-ea12-47a5-da0e-3bacad722edc"
      },
      "execution_count": null,
      "outputs": [
        {
          "output_type": "execute_result",
          "data": {
            "text/plain": [
              "(372450,)"
            ]
          },
          "metadata": {},
          "execution_count": 18
        }
      ]
    },
    {
      "cell_type": "code",
      "source": [
        "# Reshape pixel data to 28*28\n",
        "alphabet_data = np.reshape(alphabet_data.values, (alphabet_data.shape[0], 28, 28)) # Mengubah dimensi data yang sebelumnnya 1 dimensi menjadi 2 dimensi dengan ukuran 28 x 28\n",
        "# Check the result by its shape\n",
        "alphabet_data.shape # Menampilkan ukuran dan dimensi data alphabet_data"
      ],
      "metadata": {
        "id": "9xps-5kjpio_",
        "colab": {
          "base_uri": "https://localhost:8080/"
        },
        "outputId": "29686969-ae26-49fc-821a-ae46374e806b"
      },
      "execution_count": null,
      "outputs": [
        {
          "output_type": "execute_result",
          "data": {
            "text/plain": [
              "(372450, 28, 28)"
            ]
          },
          "metadata": {},
          "execution_count": 19
        }
      ]
    },
    {
      "cell_type": "code",
      "source": [
        "# Randomly checking A-Z dataset\n",
        "index = np.random.randint(0, alphabet_data.shape[0])  # Menentukan angka indeks acak berdasarkan panjang digits_data\n",
        "plt.imshow(alphabet_data[index], cmap = 'gray') # Menampilkan data dengan citra abu abu\n",
        "plt.title('Class: ' + str(alphabet_labels[index])) # Menambahkan judul pada plot"
      ],
      "metadata": {
        "id": "tDTBbWSoqloX",
        "colab": {
          "base_uri": "https://localhost:8080/",
          "height": 452
        },
        "outputId": "ed673455-f2f5-4dee-be01-93f942d60f0a"
      },
      "execution_count": null,
      "outputs": [
        {
          "output_type": "display_data",
          "data": {
            "text/plain": [
              "<Figure size 640x480 with 1 Axes>"
            ],
            "image/png": "[encoded data removed]"
          },
          "metadata": {}
        }
      ]
    },
    {
      "cell_type": "code",
      "source": [
        "# Check data distribution\n",
        "df_az_labels = pd.DataFrame({\n",
        "    'Labels': alphabet_labels.values\n",
        "}) # Mengambil data labels dari alphabet\n",
        "sns.countplot(df_az_labels, x='Labels') # Menampilkan visualisasi data dengan x berupa labels dan y total atau count setiap label nya"
      ],
      "metadata": {
        "id": "72frSp_uqrjm",
        "colab": {
          "base_uri": "https://localhost:8080/",
          "height": 468
        },
        "outputId": "c62287d1-3ec6-485a-c53e-b1173d279fa2"
      },
      "execution_count": null,
      "outputs": [
        {
          "output_type": "execute_result",
          "data": {
            "text/plain": [
              "<Axes: xlabel='Labels', ylabel='count'>"
            ]
          },
          "metadata": {},
          "execution_count": 21
        },
        {
          "output_type": "display_data",
          "data": {
            "text/plain": [
              "<Figure size 640x480 with 1 Axes>"
            ],
            "image/png": "[encoded data removed]"
          },
          "metadata": {}
        }
      ]
    },
    {
      "cell_type": "markdown",
      "source": [
        "## Combine Dataset (MNIST + Kaggel A-Z)"
      ],
      "metadata": {
        "id": "YZf14K79sdEC"
      }
    },
    {
      "cell_type": "code",
      "source": [
        "# Check unique value from digits_labels\n",
        "np.unique(digits_labels) # Menampilkan data unik dari digits_labels"
      ],
      "metadata": {
        "id": "9voZzZ8Krqk4",
        "colab": {
          "base_uri": "https://localhost:8080/"
        },
        "outputId": "f1a11103-24cf-48d2-fd54-93cb90b4653a"
      },
      "execution_count": null,
      "outputs": [
        {
          "output_type": "execute_result",
          "data": {
            "text/plain": [
              "array([0, 1, 2, 3, 4, 5, 6, 7, 8, 9], dtype=uint8)"
            ]
          },
          "metadata": {},
          "execution_count": 22
        }
      ]
    },
    {
      "cell_type": "code",
      "source": [
        "# Check unique value from alphabet_labels\n",
        "np.unique(alphabet_labels) # Menampilkan data unik dari alphabet_labels"
      ],
      "metadata": {
        "id": "9ZzBJFKxs1AF",
        "colab": {
          "base_uri": "https://localhost:8080/"
        },
        "outputId": "038e14d1-1a09-4c2b-b12d-6dd98b4df693"
      },
      "execution_count": null,
      "outputs": [
        {
          "output_type": "execute_result",
          "data": {
            "text/plain": [
              "array([ 0.,  1.,  2.,  3.,  4.,  5.,  6.,  7.,  8.,  9., 10., 11., 12.,\n",
              "       13., 14., 15., 16., 17., 18., 19., 20., 21., 22., 23., 24., 25.],\n",
              "      dtype=float32)"
            ]
          },
          "metadata": {},
          "execution_count": 23
        }
      ]
    },
    {
      "cell_type": "code",
      "source": [
        "# We already know that digits labels containt labels from 0-9 (10 labels)\n",
        "# We also know that alphabet labels start from 0-25 which represent A-Z\n",
        "# If we want to combine them, the A-Z labels should continuing the digits label\n",
        "\n",
        "alphabet_labels += 10 # Menambahkan 10 ke setiap value"
      ],
      "metadata": {
        "id": "dM0GV8lIsnzf"
      },
      "execution_count": null,
      "outputs": []
    },
    {
      "cell_type": "code",
      "source": [
        "# check alphabet labels again\n",
        "np.unique(alphabet_labels) # Menampilkan data unik dari alphabet_labels"
      ],
      "metadata": {
        "id": "42YKtJB-tQC6",
        "colab": {
          "base_uri": "https://localhost:8080/"
        },
        "outputId": "be0dada1-37f6-4a86-d0a1-ab9ff001a653"
      },
      "execution_count": null,
      "outputs": [
        {
          "output_type": "execute_result",
          "data": {
            "text/plain": [
              "array([10., 11., 12., 13., 14., 15., 16., 17., 18., 19., 20., 21., 22.,\n",
              "       23., 24., 25., 26., 27., 28., 29., 30., 31., 32., 33., 34., 35.],\n",
              "      dtype=float32)"
            ]
          },
          "metadata": {},
          "execution_count": 25
        }
      ]
    },
    {
      "cell_type": "code",
      "source": [
        "# Combine both of them\n",
        "data = np.vstack([alphabet_data, digits_data]) # Menggabungkan data alphabet_data dan digits_data dalam array secara vertikal\n",
        "labels = np.hstack([alphabet_labels, digits_labels]) # Menggabungkan data alphabet_label dan digits_label dalam array secara horizontal"
      ],
      "metadata": {
        "id": "1ydXPXiItVVS"
      },
      "execution_count": null,
      "outputs": []
    },
    {
      "cell_type": "code",
      "source": [
        "# Check the shape\n",
        "data.shape, labels.shape # Menampilkan ukuran dan dimensi data dan labels"
      ],
      "metadata": {
        "id": "-vYLoXFjuLz7",
        "colab": {
          "base_uri": "https://localhost:8080/"
        },
        "outputId": "d1aab00d-4bc1-4ad9-ddcb-5d95148c2ef8"
      },
      "execution_count": null,
      "outputs": [
        {
          "output_type": "execute_result",
          "data": {
            "text/plain": [
              "((442450, 28, 28), (442450,))"
            ]
          },
          "metadata": {},
          "execution_count": 27
        }
      ]
    },
    {
      "cell_type": "code",
      "source": [
        "# Check labels\n",
        "np.unique(labels) # Menampilkan data unik dari labels"
      ],
      "metadata": {
        "id": "biyM6WueuRG6",
        "colab": {
          "base_uri": "https://localhost:8080/"
        },
        "outputId": "9095c94d-0fbd-46f7-d188-100c2e4744dc"
      },
      "execution_count": null,
      "outputs": [
        {
          "output_type": "execute_result",
          "data": {
            "text/plain": [
              "array([ 0.,  1.,  2.,  3.,  4.,  5.,  6.,  7.,  8.,  9., 10., 11., 12.,\n",
              "       13., 14., 15., 16., 17., 18., 19., 20., 21., 22., 23., 24., 25.,\n",
              "       26., 27., 28., 29., 30., 31., 32., 33., 34., 35.], dtype=float32)"
            ]
          },
          "metadata": {},
          "execution_count": 28
        }
      ]
    },
    {
      "cell_type": "code",
      "source": [
        "# Convert data to float32\n",
        "data = np.array(data, dtype = 'float32') # Mengubah tipe data menjadi float32"
      ],
      "metadata": {
        "id": "vuEt24lhuVfy"
      },
      "execution_count": null,
      "outputs": []
    },
    {
      "cell_type": "code",
      "source": [
        "# Since Convolutional need 3d data (including depth)\n",
        "# and our images only in 2d data (because in grayscale format)\n",
        "# we need to add \"the depth\" to the data\n",
        "data = np.expand_dims(data, axis=-1) # Menambahkan dimensi baru ke array numpy\n",
        "\n",
        "# check shape\n",
        "data.shape # Menampilkan ukuran dan dimensi data"
      ],
      "metadata": {
        "id": "UC6Vhz59ucdR",
        "colab": {
          "base_uri": "https://localhost:8080/"
        },
        "outputId": "e6b804fc-1e98-4905-8ffe-47612b25c409"
      },
      "execution_count": null,
      "outputs": [
        {
          "output_type": "execute_result",
          "data": {
            "text/plain": [
              "(442450, 28, 28, 1)"
            ]
          },
          "metadata": {},
          "execution_count": 30
        }
      ]
    },
    {
      "cell_type": "markdown",
      "source": [
        "# Preprocessing"
      ],
      "metadata": {
        "id": "xF71lXtSu3YE"
      }
    },
    {
      "cell_type": "code",
      "source": [
        "# Normalize data\n",
        "data /= 255.0 # Nomalisasi data untuk menghasilkan nilai dari 0 sampai 1 dengan membagi value dengan 255"
      ],
      "metadata": {
        "id": "kFjjP_JLuzbm"
      },
      "execution_count": null,
      "outputs": []
    },
    {
      "cell_type": "code",
      "source": [
        "# Check range value of data\n",
        "data[0].min(), data[0].max() # Menampilkan rentang nilai dari min dan max"
      ],
      "metadata": {
        "id": "zztStKZOu-Dy",
        "colab": {
          "base_uri": "https://localhost:8080/"
        },
        "outputId": "62af83da-afa5-4557-a3b0-4b00684728b0"
      },
      "execution_count": null,
      "outputs": [
        {
          "output_type": "execute_result",
          "data": {
            "text/plain": [
              "(0.0, 1.0)"
            ]
          },
          "metadata": {},
          "execution_count": 32
        }
      ]
    },
    {
      "cell_type": "code",
      "source": [
        "# Enconde the labels\n",
        "# LabelBinarizer similar with OneHotEncoder\n",
        "le = LabelBinarizer() # Membuat objek LabelBinarizer\n",
        "labels = le.fit_transform(labels) # Encoding data menjadi data numerik"
      ],
      "metadata": {
        "id": "s2C5yKEGu7vt"
      },
      "execution_count": null,
      "outputs": []
    },
    {
      "cell_type": "code",
      "source": [
        "# Check labels shape\n",
        "labels.shape # Menampikan ukuran dan dimensi labels"
      ],
      "metadata": {
        "id": "Bo1M5YEmvg5x",
        "colab": {
          "base_uri": "https://localhost:8080/"
        },
        "outputId": "c68b81e5-cabc-44de-e406-2cd2d7e9f3b7"
      },
      "execution_count": null,
      "outputs": [
        {
          "output_type": "execute_result",
          "data": {
            "text/plain": [
              "(442450, 36)"
            ]
          },
          "metadata": {},
          "execution_count": 34
        }
      ]
    },
    {
      "cell_type": "code",
      "source": [
        "# Check data with label binarizer's label\n",
        "plt.imshow(data[30000].reshape(28,28), cmap='gray') # Menampilkan data indeks 30000 dengan citra gray dan ukuran 28 x 28\n",
        "plt.title(str(labels[0])) # Menambahkan judul di plot"
      ],
      "metadata": {
        "id": "jCL5ipbsvjpw",
        "colab": {
          "base_uri": "https://localhost:8080/",
          "height": 469
        },
        "outputId": "9fec1cdf-833e-4c4d-a4a5-914ff15b4082"
      },
      "execution_count": null,
      "outputs": [
        {
          "output_type": "execute_result",
          "data": {
            "text/plain": [
              "Text(0.5, 1.0, '[0 0 0 0 0 0 0 0 0 0 1 0 0 0 0 0 0 0 0 0 0 0 0 0 0 0 0 0 0 0 0 0 0 0 0 0]')"
            ]
          },
          "metadata": {},
          "execution_count": 35
        },
        {
          "output_type": "display_data",
          "data": {
            "text/plain": [
              "<Figure size 640x480 with 1 Axes>"
            ],
            "image/png": "[encoded data removed]"
          },
          "metadata": {}
        }
      ]
    },
    {
      "cell_type": "code",
      "source": [
        "# Since our data is not balance, we will handle it by giving weight for 'small' data\n",
        "\n",
        "# Check number of data for each labels first\n",
        "classes_total = labels.sum(axis = 0) # Menghitung jumlah kemunculan setiap label\n",
        "classes_total # Menampilkan data classes total"
      ],
      "metadata": {
        "id": "njDbZXKzvsx2",
        "colab": {
          "base_uri": "https://localhost:8080/"
        },
        "outputId": "d8e9eb20-5270-4f2c-a97e-c67e5aff7ce5"
      },
      "execution_count": null,
      "outputs": [
        {
          "output_type": "execute_result",
          "data": {
            "text/plain": [
              "array([ 6903,  7877,  6990,  7141,  6824,  6313,  6876,  7293,  6825,\n",
              "        6958, 13869,  8668, 23409, 10134, 11440,  1163,  5762,  7218,\n",
              "        1120,  8493,  5603, 11586, 12336, 19010, 57825, 19341,  5812,\n",
              "       11566, 48419, 22495, 29008,  4182, 10784,  6272, 10859,  6076])"
            ]
          },
          "metadata": {},
          "execution_count": 36
        }
      ]
    },
    {
      "cell_type": "code",
      "source": [
        "# Check the biggest value of data\n",
        "classes_total.max() # Menampilkan value terbesar dari classes_total"
      ],
      "metadata": {
        "id": "R1hHYtGLv_ZO",
        "colab": {
          "base_uri": "https://localhost:8080/"
        },
        "outputId": "6fe2b0c5-a216-4f50-cca0-a4ae1fb5473f"
      },
      "execution_count": null,
      "outputs": [
        {
          "output_type": "execute_result",
          "data": {
            "text/plain": [
              "57825"
            ]
          },
          "metadata": {},
          "execution_count": 37
        }
      ]
    },
    {
      "cell_type": "code",
      "source": [
        "# Create a weight for each data\n",
        "classes_weights = {} # Membuat inisialisasi variabel dictionary\n",
        "for i in range(0, len(classes_total)): # Membuat iterasi dimulai dari 0 sampai value sebelum panjang variabel classes_total\n",
        "  #print(i)\n",
        "  classes_weights[i] = classes_total.max() / classes_total[i] # Menambahkan valu hasil pembagian kedalam classes_weight key i\n",
        "\n",
        "# Check the weight for each data\n",
        "classes_weights # Menampilkan data classes_weights"
      ],
      "metadata": {
        "id": "7TJFrxS2wFTO",
        "colab": {
          "base_uri": "https://localhost:8080/"
        },
        "outputId": "db3cf9d8-3d02-4015-ff26-2c78a8d0ee8a"
      },
      "execution_count": null,
      "outputs": [
        {
          "output_type": "execute_result",
          "data": {
            "text/plain": [
              "{0: 8.376792698826597,\n",
              " 1: 7.340992763742541,\n",
              " 2: 8.272532188841202,\n",
              " 3: 8.097605377398123,\n",
              " 4: 8.473769050410317,\n",
              " 5: 9.15967052114684,\n",
              " 6: 8.409685863874346,\n",
              " 7: 7.928835870012341,\n",
              " 8: 8.472527472527473,\n",
              " 9: 8.310577752227651,\n",
              " 10: 4.169370538611291,\n",
              " 11: 6.671089063221043,\n",
              " 12: 2.4702037677816224,\n",
              " 13: 5.7060390763765545,\n",
              " 14: 5.0546328671328675,\n",
              " 15: 49.72055030094583,\n",
              " 16: 10.035577924331829,\n",
              " 17: 8.011221945137157,\n",
              " 18: 51.629464285714285,\n",
              " 19: 6.808548216178029,\n",
              " 20: 10.320364090665715,\n",
              " 21: 4.990937338166753,\n",
              " 22: 4.6875,\n",
              " 23: 3.0418200946870066,\n",
              " 24: 1.0,\n",
              " 25: 2.989762680316426,\n",
              " 26: 9.94924294562973,\n",
              " 27: 4.999567698426422,\n",
              " 28: 1.1942625828703608,\n",
              " 29: 2.5705712380529007,\n",
              " 30: 1.993415609487038,\n",
              " 31: 13.827116212338593,\n",
              " 32: 5.362110534124629,\n",
              " 33: 9.21954719387755,\n",
              " 34: 5.3250759738465785,\n",
              " 35: 9.51695194206715}"
            ]
          },
          "metadata": {},
          "execution_count": 38
        }
      ]
    },
    {
      "cell_type": "markdown",
      "source": [
        "# Split Data to Train and Test"
      ],
      "metadata": {
        "id": "VtDS1O6JwSQ5"
      }
    },
    {
      "cell_type": "code",
      "source": [
        "X_train, X_test, y_train, y_test = train_test_split(data, labels, test_size = 0.2, random_state = 1, stratify = labels) # Membagi dataset dengan rasio data training 80% dan test 20%"
      ],
      "metadata": {
        "id": "rV62GJySwM2z"
      },
      "execution_count": null,
      "outputs": []
    },
    {
      "cell_type": "markdown",
      "source": [
        "## Create Data Augmentation"
      ],
      "metadata": {
        "id": "q7Hs5GwGxw4E"
      }
    },
    {
      "cell_type": "code",
      "source": [
        "# Import library\n",
        "from keras.preprocessing.image import ImageDataGenerator # Kelas yang berguna untuk melakukan augmentasi data gambar secara real-time"
      ],
      "metadata": {
        "id": "Xn1jiVn9x2Gx"
      },
      "execution_count": null,
      "outputs": []
    },
    {
      "cell_type": "code",
      "source": [
        "augmentation = ImageDataGenerator(rotation_range = 10, zoom_range=0.05, width_shift_range=0.1,\n",
        "                                  height_shift_range=0.1, horizontal_flip = False) # Membuat augmentasi yang dapat mengenali gambar walaupun gambar tersebut mengalami rotasi, zoom, pergeseran baik horizontal maupun vertikal namun menonaktifkan flip secara horizontal"
      ],
      "metadata": {
        "id": "su41P3box6Zm"
      },
      "execution_count": null,
      "outputs": []
    },
    {
      "cell_type": "markdown",
      "source": [
        "# Build CNN Model"
      ],
      "metadata": {
        "id": "GYwIT1TZw8SM"
      }
    },
    {
      "cell_type": "code",
      "source": [
        "# Import library\n",
        "from keras.models import Sequential # Berguna dalam membuat model multilayer\n",
        "from keras.layers import Conv2D, MaxPool2D, Flatten, Dense # Mengimport berbagai macam layer yang akan digunakan dalam Model CNN\n",
        "from keras.callbacks import ModelCheckpoint # Membantu dalam menyimpan model secara berkala"
      ],
      "metadata": {
        "id": "nvQ2Ly4zwX8z"
      },
      "execution_count": null,
      "outputs": []
    },
    {
      "cell_type": "code",
      "source": [
        "# Build the network\n",
        "network = Sequential() # Membuat objek sequential\n",
        "\n",
        "network.add(Conv2D(filters = 32, kernel_size=(3,3), activation='relu', input_shape=(28,28,1))) # Menambah layer Conv2D kedalam model network dengan 32 filter dan kernel untuk konvolusi berukuran 3 x 3. ReLU digunakan sebagai fungsi aktivasi (x > 0 ? x : 0) dan ukuran input 28 x 28 x 1\n",
        "network.add(MaxPool2D(pool_size=(2,2))) # Menambahkan layer pooling dengan ukuran 2 x 2 dengan mengambil nilai max dari hasil konvolusi.\n",
        "\n",
        "network.add(Conv2D(filters = 64, kernel_size=(3,3), activation='relu', padding='same')) # Menambah layer Conv2D kedalam model network dengan 64 filter dan kernel untuk konvolusi berukuran 3 x 3. ReLU digunakan sebagai fungsi aktivasi (x > 0 ? x : 0) dan menambahkan padding disekitar input dengna value 0 agar menghasilkan ukuran yang sama dengan citra yang dikonvolusi\n",
        "network.add(MaxPool2D(pool_size=(2,2))) # Menambahkan layer pooling dengan ukuran 2 x 2 dengan mengambil nilai max dari hasil konvolusi.\n",
        "\n",
        "network.add(Conv2D(filters = 128, kernel_size=(3,3), activation='relu', padding='valid'))  # Menambah layer Conv2D kedalam model network dengan 64 filter dan kernel untuk konvolusi berukuran 3 x 3. ReLU digunakan sebagai fungsi aktivasi (x > 0 ? x : 0) dan tidak menambahkan padding disekitar input agar menghasilkan ukuran yang lebih kecil citra yang dikonvolusi\n",
        "network.add(MaxPool2D(pool_size=(2,2))) # Menambahkan layer pooling dengan ukuran 2 x 2 dengan mengambil nilai max dari hasil konvolusi.\n",
        "\n",
        "network.add(Flatten()) # Menambahkan layer Flatten ke model yang merubah input fultidimensi menjadi 1 dimensi\n",
        "\n",
        "network.add(Dense(64, activation = 'relu')) # Menambahkan hidden layer dengan 64 neuron dan fungsi aktivasi ReLU\n",
        "network.add(Dense(128, activation = 'relu')) # Menambahkan hidden layer dengan 128 neuron dan fungsi aktivasi ReLU\n",
        "\n",
        "network.add(Dense(36, activation='softmax')) # Menambahkan outpu layer dengan 36 neuron dan fungsi aktivasi softmax(hasil max dari kalkulasi value dengan niali e(euler))\n",
        "\n",
        "network.compile(loss = 'categorical_crossentropy', optimizer = 'adam', metrics = ['accuracy']) # Melakukan compile model (untuk perbaikan prediksi dan penentuan bobot) dengan fungsi kerugian berupa categorical_crossentropy, dengan optimizer adam dan matrics yang didasarkan dengan accuracy"
      ],
      "metadata": {
        "id": "icRreUChxAwF"
      },
      "execution_count": null,
      "outputs": []
    },
    {
      "cell_type": "code",
      "source": [
        "# Check network summary\n",
        "network.summary() # Menampilkan detail model"
      ],
      "metadata": {
        "id": "nAuCYbRWxIKl",
        "colab": {
          "base_uri": "https://localhost:8080/"
        },
        "outputId": "e3535a58-a88b-4d78-d958-f2e4abde9753"
      },
      "execution_count": null,
      "outputs": [
        {
          "output_type": "stream",
          "name": "stdout",
          "text": [
            "Model: \"sequential\"\n",
            "_________________________________________________________________\n",
            " Layer (type)                Output Shape              Param #   \n",
            "=================================================================\n",
            " conv2d (Conv2D)             (None, 26, 26, 32)        320       \n",
            "                                                                 \n",
            " max_pooling2d (MaxPooling2  (None, 13, 13, 32)        0         \n",
            " D)                                                              \n",
            "                                                                 \n",
            " conv2d_1 (Conv2D)           (None, 13, 13, 64)        18496     \n",
            "                                                                 \n",
            " max_pooling2d_1 (MaxPoolin  (None, 6, 6, 64)          0         \n",
            " g2D)                                                            \n",
            "                                                                 \n",
            " conv2d_2 (Conv2D)           (None, 4, 4, 128)         73856     \n",
            "                                                                 \n",
            " max_pooling2d_2 (MaxPoolin  (None, 2, 2, 128)         0         \n",
            " g2D)                                                            \n",
            "                                                                 \n",
            " flatten (Flatten)           (None, 512)               0         \n",
            "                                                                 \n",
            " dense (Dense)               (None, 64)                32832     \n",
            "                                                                 \n",
            " dense_1 (Dense)             (None, 128)               8320      \n",
            "                                                                 \n",
            " dense_2 (Dense)             (None, 36)                4644      \n",
            "                                                                 \n",
            "=================================================================\n",
            "Total params: 138468 (540.89 KB)\n",
            "Trainable params: 138468 (540.89 KB)\n",
            "Non-trainable params: 0 (0.00 Byte)\n",
            "_________________________________________________________________\n"
          ]
        }
      ]
    },
    {
      "cell_type": "code",
      "source": [
        "# Create actual labels\n",
        "name_labels = '0123456789' # Inisialisasi name_labels\n",
        "name_labels += 'ABCDEFGHIJKLMNOPQRSTUVWXYZ' # Menambah data name_labels\n",
        "name_labels = [l for l in name_labels] # Mensplit data menjadi data list\n",
        "\n",
        "# Check actual label\n",
        "print(name_labels) # Menampilkan list data name_labels"
      ],
      "metadata": {
        "id": "o7Vc4ly2xMhk",
        "colab": {
          "base_uri": "https://localhost:8080/"
        },
        "outputId": "2e1320fd-4566-41d8-832f-73860d7e3ce2"
      },
      "execution_count": null,
      "outputs": [
        {
          "output_type": "stream",
          "name": "stdout",
          "text": [
            "['0', '1', '2', '3', '4', '5', '6', '7', '8', '9', 'A', 'B', 'C', 'D', 'E', 'F', 'G', 'H', 'I', 'J', 'K', 'L', 'M', 'N', 'O', 'P', 'Q', 'R', 'S', 'T', 'U', 'V', 'W', 'X', 'Y', 'Z']\n"
          ]
        }
      ]
    },
    {
      "cell_type": "markdown",
      "source": [
        "## Train model"
      ],
      "metadata": {
        "id": "DH7hSW38xX6e"
      }
    },
    {
      "cell_type": "code",
      "source": [
        "# Set model name, epoch, and batch size\n",
        "file_model = 'custom_ocr.model' # Inisialisasi variabel file_model, yang nantinya digunakan untuk nama model OCR yang akan disimpan\n",
        "epochs = 20 # Inisialisasi variabel epochs\n",
        "batch_size = 128 # Inisialisasi variabel batch_size, sebagai jumlah sampel untuk memperbarui bobot"
      ],
      "metadata": {
        "id": "rNQ_-PY7xVRD"
      },
      "execution_count": null,
      "outputs": []
    },
    {
      "cell_type": "code",
      "source": [
        "# Setup checkpoint\n",
        "checkpointer = ModelCheckpoint(file_model, monitor = 'val_loss', verbose = 1, save_best_only=True) # Membuat checkpoint untuk menyimpan model ketika val_loss (validation loss) menurun selama training dilakukan, variabel ini akan digunakan sebagai callbacks, dengan mencetak epoch, loss, dan metrik yang dipantau saat model disimpan."
      ],
      "metadata": {
        "id": "F8Orj5UQxdtr"
      },
      "execution_count": null,
      "outputs": []
    },
    {
      "cell_type": "code",
      "source": [
        "# Fit the model\n",
        "history = network.fit(augmentation.flow(X_train, y_train, batch_size=batch_size), # Melatih model network dengan input berupa hasil augmentasi data train dan batch size serta menyimpannya dalam variabel history\n",
        "                      validation_data = (X_test, y_test), # Mengukur kinerja berdasarkan validation data dari data test\n",
        "                      steps_per_epoch = len(X_train) // batch_size, epochs=epochs, # menentukan berapa kali generator dipanggil dan training sebanyak epochs\n",
        "                      class_weight = classes_weights, verbose=1, callbacks=[checkpointer]) # Menentukan bobot berbeda berdasarkan classes_weight, mencetak ringkasan training setelah setiap epoch dengan menggunakan checkpointer sebagai argumen callbacks"
      ],
      "metadata": {
        "id": "enFAwiaxxkgx",
        "colab": {
          "base_uri": "https://localhost:8080/"
        },
        "outputId": "2dfa06cb-deba-44bf-c99f-77f70a7dae12"
      },
      "execution_count": null,
      "outputs": [
        {
          "output_type": "stream",
          "name": "stdout",
          "text": [
            "Epoch 1/20\n",
            "2764/2765 [============================>.] - ETA: 0s - loss: 2.1699 - accuracy: 0.8289\n",
            "Epoch 1: val_loss improved from inf to 0.28479, saving model to custom_ocr.model\n",
            "2765/2765 [==============================] - 156s 52ms/step - loss: 2.1695 - accuracy: 0.8289 - val_loss: 0.2848 - val_accuracy: 0.8692\n",
            "Epoch 2/20\n",
            "2765/2765 [==============================] - ETA: 0s - loss: 0.9765 - accuracy: 0.9032\n",
            "Epoch 2: val_loss improved from 0.28479 to 0.21621, saving model to custom_ocr.model\n",
            "2765/2765 [==============================] - 128s 46ms/step - loss: 0.9765 - accuracy: 0.9032 - val_loss: 0.2162 - val_accuracy: 0.9171\n",
            "Epoch 3/20\n",
            "2765/2765 [==============================] - ETA: 0s - loss: 0.8210 - accuracy: 0.9143\n",
            "Epoch 3: val_loss did not improve from 0.21621\n",
            "2765/2765 [==============================] - 140s 51ms/step - loss: 0.8210 - accuracy: 0.9143 - val_loss: 0.3495 - val_accuracy: 0.8548\n",
            "Epoch 4/20\n",
            "2764/2765 [============================>.] - ETA: 0s - loss: 0.7345 - accuracy: 0.9202\n",
            "Epoch 4: val_loss did not improve from 0.21621\n",
            "2765/2765 [==============================] - 130s 47ms/step - loss: 0.7345 - accuracy: 0.9202 - val_loss: 0.2634 - val_accuracy: 0.8870\n",
            "Epoch 5/20\n",
            "2764/2765 [============================>.] - ETA: 0s - loss: 0.6678 - accuracy: 0.9266\n",
            "Epoch 5: val_loss did not improve from 0.21621\n",
            "2765/2765 [==============================] - 131s 47ms/step - loss: 0.6677 - accuracy: 0.9266 - val_loss: 0.2356 - val_accuracy: 0.9027\n",
            "Epoch 6/20\n",
            "2765/2765 [==============================] - ETA: 0s - loss: 0.6163 - accuracy: 0.9305\n",
            "Epoch 6: val_loss did not improve from 0.21621\n",
            "2765/2765 [==============================] - 129s 47ms/step - loss: 0.6163 - accuracy: 0.9305 - val_loss: 0.3114 - val_accuracy: 0.8772\n",
            "Epoch 7/20\n",
            "2765/2765 [==============================] - ETA: 0s - loss: 0.5836 - accuracy: 0.9331\n",
            "Epoch 7: val_loss did not improve from 0.21621\n",
            "2765/2765 [==============================] - 128s 46ms/step - loss: 0.5836 - accuracy: 0.9331 - val_loss: 0.3091 - val_accuracy: 0.8708\n",
            "Epoch 8/20\n",
            "2764/2765 [============================>.] - ETA: 0s - loss: 0.5579 - accuracy: 0.9351\n",
            "Epoch 8: val_loss did not improve from 0.21621\n",
            "2765/2765 [==============================] - 127s 46ms/step - loss: 0.5579 - accuracy: 0.9351 - val_loss: 0.2260 - val_accuracy: 0.9002\n",
            "Epoch 9/20\n",
            "2765/2765 [==============================] - ETA: 0s - loss: 0.5312 - accuracy: 0.9368\n",
            "Epoch 9: val_loss did not improve from 0.21621\n",
            "2765/2765 [==============================] - 134s 49ms/step - loss: 0.5312 - accuracy: 0.9368 - val_loss: 0.3226 - val_accuracy: 0.8652\n",
            "Epoch 10/20\n",
            "2765/2765 [==============================] - ETA: 0s - loss: 0.5143 - accuracy: 0.9378\n",
            "Epoch 10: val_loss improved from 0.21621 to 0.21311, saving model to custom_ocr.model\n",
            "2765/2765 [==============================] - 127s 46ms/step - loss: 0.5143 - accuracy: 0.9378 - val_loss: 0.2131 - val_accuracy: 0.9071\n",
            "Epoch 11/20\n",
            "2764/2765 [============================>.] - ETA: 0s - loss: 0.4930 - accuracy: 0.9401\n",
            "Epoch 11: val_loss improved from 0.21311 to 0.20109, saving model to custom_ocr.model\n",
            "2765/2765 [==============================] - 134s 48ms/step - loss: 0.4929 - accuracy: 0.9401 - val_loss: 0.2011 - val_accuracy: 0.9210\n",
            "Epoch 12/20\n",
            "2764/2765 [============================>.] - ETA: 0s - loss: 0.4777 - accuracy: 0.9411\n",
            "Epoch 12: val_loss did not improve from 0.20109\n",
            "2765/2765 [==============================] - 128s 46ms/step - loss: 0.4777 - accuracy: 0.9411 - val_loss: 0.2033 - val_accuracy: 0.9141\n",
            "Epoch 13/20\n",
            "2765/2765 [==============================] - ETA: 0s - loss: 0.4739 - accuracy: 0.9424\n",
            "Epoch 13: val_loss did not improve from 0.20109\n",
            "2765/2765 [==============================] - 132s 48ms/step - loss: 0.4739 - accuracy: 0.9424 - val_loss: 0.2340 - val_accuracy: 0.9007\n",
            "Epoch 14/20\n",
            "2764/2765 [============================>.] - ETA: 0s - loss: 0.4547 - accuracy: 0.9446\n",
            "Epoch 14: val_loss improved from 0.20109 to 0.15553, saving model to custom_ocr.model\n",
            "2765/2765 [==============================] - 129s 47ms/step - loss: 0.4546 - accuracy: 0.9446 - val_loss: 0.1555 - val_accuracy: 0.9473\n",
            "Epoch 15/20\n",
            "2765/2765 [==============================] - ETA: 0s - loss: 0.4474 - accuracy: 0.9453\n",
            "Epoch 15: val_loss improved from 0.15553 to 0.15453, saving model to custom_ocr.model\n",
            "2765/2765 [==============================] - 135s 49ms/step - loss: 0.4474 - accuracy: 0.9453 - val_loss: 0.1545 - val_accuracy: 0.9473\n",
            "Epoch 16/20\n",
            "2765/2765 [==============================] - ETA: 0s - loss: 0.4349 - accuracy: 0.9465\n",
            "Epoch 16: val_loss improved from 0.15453 to 0.15442, saving model to custom_ocr.model\n",
            "2765/2765 [==============================] - 128s 46ms/step - loss: 0.4349 - accuracy: 0.9465 - val_loss: 0.1544 - val_accuracy: 0.9464\n",
            "Epoch 17/20\n",
            "2765/2765 [==============================] - ETA: 0s - loss: 0.4267 - accuracy: 0.9480\n",
            "Epoch 17: val_loss improved from 0.15442 to 0.13541, saving model to custom_ocr.model\n",
            "2765/2765 [==============================] - 136s 49ms/step - loss: 0.4267 - accuracy: 0.9480 - val_loss: 0.1354 - val_accuracy: 0.9528\n",
            "Epoch 18/20\n",
            "2765/2765 [==============================] - ETA: 0s - loss: 0.4138 - accuracy: 0.9489\n",
            "Epoch 18: val_loss improved from 0.13541 to 0.11510, saving model to custom_ocr.model\n",
            "2765/2765 [==============================] - 128s 46ms/step - loss: 0.4138 - accuracy: 0.9489 - val_loss: 0.1151 - val_accuracy: 0.9649\n",
            "Epoch 19/20\n",
            "2765/2765 [==============================] - ETA: 0s - loss: 0.4126 - accuracy: 0.9492\n",
            "Epoch 19: val_loss did not improve from 0.11510\n",
            "2765/2765 [==============================] - 135s 49ms/step - loss: 0.4126 - accuracy: 0.9492 - val_loss: 0.1440 - val_accuracy: 0.9527\n",
            "Epoch 20/20\n",
            "2764/2765 [============================>.] - ETA: 0s - loss: 0.4095 - accuracy: 0.9508\n",
            "Epoch 20: val_loss did not improve from 0.11510\n",
            "2765/2765 [==============================] - 128s 46ms/step - loss: 0.4094 - accuracy: 0.9508 - val_loss: 0.1487 - val_accuracy: 0.9489\n"
          ]
        }
      ]
    },
    {
      "cell_type": "markdown",
      "source": [
        "# Evaluate Model"
      ],
      "metadata": {
        "id": "bM4mGoWL6jxk"
      }
    },
    {
      "cell_type": "markdown",
      "source": [
        "## Make a Single Prediction"
      ],
      "metadata": {
        "id": "ig0TiV6N7V29"
      }
    },
    {
      "cell_type": "markdown",
      "source": [],
      "metadata": {
        "id": "5pbMkmvg7V0i"
      }
    },
    {
      "cell_type": "code",
      "source": [
        "# make a prediction\n",
        "predictions = network.predict(X_test, batch_size=batch_size) # Melakukan prediksi dengan menggunakan atribut X_test dan argument batch_size sebesar 128"
      ],
      "metadata": {
        "id": "WDJUSW-l6lEl",
        "colab": {
          "base_uri": "https://localhost:8080/"
        },
        "outputId": "b41eb6fa-7c99-4dd3-bdda-6a2ea98ba0d9"
      },
      "execution_count": null,
      "outputs": [
        {
          "output_type": "stream",
          "name": "stdout",
          "text": [
            "692/692 [==============================] - 2s 3ms/step\n"
          ]
        }
      ]
    },
    {
      "cell_type": "code",
      "source": [
        "# Check prediction for data-0\n",
        "# You will get the probability for each label\n",
        "# The highest one is the prediction\n",
        "predictions[1] # Menampilkan hasil prediksi variabel predictions indeks ke-1"
      ],
      "metadata": {
        "id": "tQ5Ta4b96pEt",
        "colab": {
          "base_uri": "https://localhost:8080/"
        },
        "outputId": "d1f37c92-24cb-4631-9d35-def3ba95af68"
      },
      "execution_count": null,
      "outputs": [
        {
          "output_type": "execute_result",
          "data": {
            "text/plain": [
              "array([3.36257483e-24, 8.45462633e-09, 2.44488739e-12, 1.77910909e-12,\n",
              "       7.79232364e-15, 7.81496048e-12, 5.35172060e-15, 7.36873323e-12,\n",
              "       2.56806390e-18, 6.67425112e-18, 2.99705271e-16, 7.96312403e-16,\n",
              "       8.23023594e-12, 1.74769643e-11, 6.82726824e-13, 2.08413899e-16,\n",
              "       1.65617438e-13, 7.72652748e-14, 9.99943137e-01, 5.68376781e-05,\n",
              "       2.46176105e-12, 3.65360009e-09, 1.06635814e-19, 2.75886522e-17,\n",
              "       1.23411231e-12, 1.26667732e-15, 4.24222353e-23, 6.26143826e-19,\n",
              "       1.71842644e-11, 3.64196886e-08, 7.38098113e-13, 2.74568102e-15,\n",
              "       1.64954177e-20, 9.77433846e-12, 1.73936841e-12, 1.16857343e-10],\n",
              "      dtype=float32)"
            ]
          },
          "metadata": {},
          "execution_count": 50
        }
      ]
    },
    {
      "cell_type": "code",
      "source": [
        "# Get the actual prediction -> highest probability\n",
        "np.argmax(predictions[1]) # Memperoleh indeks dengan value tertinggi"
      ],
      "metadata": {
        "id": "9THTrYAH64g8",
        "colab": {
          "base_uri": "https://localhost:8080/"
        },
        "outputId": "07b7d65d-833c-4231-a4e3-7fba32e3344c"
      },
      "execution_count": null,
      "outputs": [
        {
          "output_type": "execute_result",
          "data": {
            "text/plain": [
              "18"
            ]
          },
          "metadata": {},
          "execution_count": 51
        }
      ]
    },
    {
      "cell_type": "code",
      "source": [
        "# Check label for 24\n",
        "name_labels[18] # Mengecek label yang berada di indeks ke-18"
      ],
      "metadata": {
        "id": "pG6n2eTI6-Ly",
        "colab": {
          "base_uri": "https://localhost:8080/",
          "height": 35
        },
        "outputId": "bd06d4cd-0688-480d-f40a-911418cb0ec2"
      },
      "execution_count": null,
      "outputs": [
        {
          "output_type": "execute_result",
          "data": {
            "text/plain": [
              "'I'"
            ],
            "application/vnd.google.colaboratory.intrinsic+json": {
              "type": "string"
            }
          },
          "metadata": {},
          "execution_count": 52
        }
      ]
    },
    {
      "cell_type": "code",
      "source": [
        "# Check y_test label for 0\n",
        "y_test[1] # Menampilkan hasil atau nilai aktual dari y_test ke-1"
      ],
      "metadata": {
        "id": "chDSvyYq7Bxq",
        "colab": {
          "base_uri": "https://localhost:8080/"
        },
        "outputId": "0c223fd7-96b5-4b00-8a13-e664e2d9319d"
      },
      "execution_count": null,
      "outputs": [
        {
          "output_type": "execute_result",
          "data": {
            "text/plain": [
              "array([0, 0, 0, 0, 0, 0, 0, 0, 0, 0, 0, 0, 0, 0, 0, 0, 0, 0, 1, 0, 0, 0,\n",
              "       0, 0, 0, 0, 0, 0, 0, 0, 0, 0, 0, 0, 0, 0])"
            ]
          },
          "metadata": {},
          "execution_count": 53
        }
      ]
    },
    {
      "cell_type": "code",
      "source": [
        "# check the highest value\n",
        "np.argmax(y_test[1]) # Memperoleh indeks dengan value tertinggi"
      ],
      "metadata": {
        "id": "BpoE99Us7KpZ",
        "colab": {
          "base_uri": "https://localhost:8080/"
        },
        "outputId": "1ff9320d-538e-4933-c3b3-d67b11f18da1"
      },
      "execution_count": null,
      "outputs": [
        {
          "output_type": "execute_result",
          "data": {
            "text/plain": [
              "18"
            ]
          },
          "metadata": {},
          "execution_count": 54
        }
      ]
    },
    {
      "cell_type": "code",
      "source": [
        "# Check the label of y_test 0\n",
        "name_labels[np.argmax(y_test[18])] # Menampilkan hasil atau nilai aktual dari indeks hasil value tertinggi y_test indeks ke-18"
      ],
      "metadata": {
        "id": "KjJRX1lC7Ppw",
        "colab": {
          "base_uri": "https://localhost:8080/",
          "height": 35
        },
        "outputId": "9085b6a5-494d-485b-87ea-1dd2e834c218"
      },
      "execution_count": null,
      "outputs": [
        {
          "output_type": "execute_result",
          "data": {
            "text/plain": [
              "'S'"
            ],
            "application/vnd.google.colaboratory.intrinsic+json": {
              "type": "string"
            }
          },
          "metadata": {},
          "execution_count": 55
        }
      ]
    },
    {
      "cell_type": "markdown",
      "source": [
        "## Make an Evaluation on Test Data"
      ],
      "metadata": {
        "id": "_xFS3-cs7a0x"
      }
    },
    {
      "cell_type": "code",
      "source": [
        "# Evaluate on test data\n",
        "network.evaluate(X_test, y_test) # Menampilkan hasil evaluasi model"
      ],
      "metadata": {
        "id": "t-rko8WP7TYA",
        "colab": {
          "base_uri": "https://localhost:8080/"
        },
        "outputId": "08ec52d1-6318-4d89-a8f3-7202b5a601a4"
      },
      "execution_count": null,
      "outputs": [
        {
          "output_type": "stream",
          "name": "stdout",
          "text": [
            "2766/2766 [==============================] - 9s 3ms/step - loss: 0.1487 - accuracy: 0.9489\n"
          ]
        },
        {
          "output_type": "execute_result",
          "data": {
            "text/plain": [
              "[0.14870306849479675, 0.9489094614982605]"
            ]
          },
          "metadata": {},
          "execution_count": 56
        }
      ]
    },
    {
      "cell_type": "code",
      "source": [
        "# Print Classification Report\n",
        "print(classification_report(y_test.argmax(axis=1), predictions.argmax(axis=1), target_names = name_labels)) # Mengevaluasi model untuk klasifikasi data berdasarkan nilai aktuan dan prediksi serta target_names berupa name_labels"
      ],
      "metadata": {
        "id": "VkQtgoCq7gx2",
        "colab": {
          "base_uri": "https://localhost:8080/"
        },
        "outputId": "5c307259-b9fb-4c74-e50d-3efcb8d26485"
      },
      "execution_count": null,
      "outputs": [
        {
          "output_type": "stream",
          "name": "stdout",
          "text": [
            "              precision    recall  f1-score   support\n",
            "\n",
            "           0       0.34      0.60      0.44      1381\n",
            "           1       0.97      0.99      0.98      1575\n",
            "           2       0.95      0.94      0.95      1398\n",
            "           3       0.98      0.98      0.98      1428\n",
            "           4       0.94      0.96      0.95      1365\n",
            "           5       0.70      0.94      0.81      1263\n",
            "           6       0.96      0.97      0.96      1375\n",
            "           7       0.94      0.99      0.97      1459\n",
            "           8       0.97      0.99      0.98      1365\n",
            "           9       0.98      0.98      0.98      1392\n",
            "           A       0.99      0.99      0.99      2774\n",
            "           B       0.99      0.98      0.98      1734\n",
            "           C       0.99      0.98      0.99      4682\n",
            "           D       0.77      0.98      0.87      2027\n",
            "           E       1.00      0.98      0.99      2288\n",
            "           F       0.96      0.99      0.97       233\n",
            "           G       0.96      0.96      0.96      1152\n",
            "           H       0.95      0.99      0.97      1444\n",
            "           I       0.98      0.99      0.98       224\n",
            "           J       0.95      0.98      0.96      1698\n",
            "           K       0.97      0.99      0.98      1121\n",
            "           L       0.97      0.98      0.97      2317\n",
            "           M       1.00      0.98      0.99      2467\n",
            "           N       0.99      0.98      0.99      3802\n",
            "           O       0.95      0.82      0.88     11565\n",
            "           P       1.00      0.99      0.99      3868\n",
            "           Q       0.97      0.99      0.98      1162\n",
            "           R       0.98      0.99      0.99      2313\n",
            "           S       0.99      0.94      0.97      9684\n",
            "           T       1.00      0.98      0.99      4499\n",
            "           U       0.99      0.97      0.98      5801\n",
            "           V       0.95      1.00      0.97       836\n",
            "           W       0.99      0.99      0.99      2157\n",
            "           X       0.98      0.99      0.99      1254\n",
            "           Y       0.97      0.96      0.96      2172\n",
            "           Z       0.94      0.95      0.95      1215\n",
            "\n",
            "    accuracy                           0.95     88490\n",
            "   macro avg       0.94      0.96      0.95     88490\n",
            "weighted avg       0.96      0.95      0.95     88490\n",
            "\n"
          ]
        }
      ]
    },
    {
      "cell_type": "code",
      "source": [
        "# Visualize loss value for each epoch\n",
        "plt.plot(history.history['val_loss']) # Memvisualisasikan data history val_loss"
      ],
      "metadata": {
        "id": "mIETfqMu7nv1",
        "colab": {
          "base_uri": "https://localhost:8080/",
          "height": 447
        },
        "outputId": "bb37c50b-0c2b-483b-ad0a-97bd511959dd"
      },
      "execution_count": null,
      "outputs": [
        {
          "output_type": "execute_result",
          "data": {
            "text/plain": [
              "[<matplotlib.lines.Line2D at 0x7fc428e74820>]"
            ]
          },
          "metadata": {},
          "execution_count": 58
        },
        {
          "output_type": "display_data",
          "data": {
            "text/plain": [
              "<Figure size 640x480 with 1 Axes>"
            ],
            "image/png": "[encoded data removed]"
          },
          "metadata": {}
        }
      ]
    },
    {
      "cell_type": "code",
      "source": [
        "# You can also check the another metrics\n",
        "history.history.keys() # Menampilkan key yang dimiliki oleh history.history"
      ],
      "metadata": {
        "id": "mNUP1QP17vas",
        "colab": {
          "base_uri": "https://localhost:8080/"
        },
        "outputId": "817f8a3b-7eea-40ac-d6d3-d0c4af2ed9a2"
      },
      "execution_count": null,
      "outputs": [
        {
          "output_type": "execute_result",
          "data": {
            "text/plain": [
              "dict_keys(['loss', 'accuracy', 'val_loss', 'val_accuracy'])"
            ]
          },
          "metadata": {},
          "execution_count": 59
        }
      ]
    },
    {
      "cell_type": "code",
      "source": [
        "# Check the model performance by validation accuracy\n",
        "plt.plot(history.history['val_accuracy']) # Memvisualisasikan data history val_accuracy"
      ],
      "metadata": {
        "id": "VwEZzjEa716s",
        "colab": {
          "base_uri": "https://localhost:8080/",
          "height": 447
        },
        "outputId": "b94f8530-be02-48a3-eea6-2812da553c78"
      },
      "execution_count": null,
      "outputs": [
        {
          "output_type": "execute_result",
          "data": {
            "text/plain": [
              "[<matplotlib.lines.Line2D at 0x7fc428e94370>]"
            ]
          },
          "metadata": {},
          "execution_count": 60
        },
        {
          "output_type": "display_data",
          "data": {
            "text/plain": [
              "<Figure size 640x480 with 1 Axes>"
            ],
            "image/png": "[encoded data removed]"
          },
          "metadata": {}
        }
      ]
    },
    {
      "cell_type": "markdown",
      "source": [
        "# Save The Model"
      ],
      "metadata": {
        "id": "D0rviDyl79Bk"
      }
    },
    {
      "cell_type": "code",
      "source": [
        "# The result will show in colab directory\n",
        "network.save('network', save_format= 'h5') # Menyimpan model CNN dengan format h5"
      ],
      "metadata": {
        "id": "QZ4ftlmq76nC",
        "colab": {
          "base_uri": "https://localhost:8080/"
        },
        "outputId": "1bce6a5d-c863-4f9f-89b2-aac08104850e"
      },
      "execution_count": null,
      "outputs": [
        {
          "output_type": "stream",
          "name": "stderr",
          "text": [
            "/usr/local/lib/python3.10/dist-packages/keras/src/engine/training.py:3079: UserWarning: You are saving your model as an HDF5 file via `model.save()`. This file format is considered legacy. We recommend using instead the native Keras format, e.g. `model.save('my_model.keras')`.\n",
            "  saving_api.save_model(\n"
          ]
        }
      ]
    },
    {
      "cell_type": "markdown",
      "source": [
        "# Testing on Real Image"
      ],
      "metadata": {
        "id": "A3EWZVrz0YDV"
      }
    },
    {
      "cell_type": "code",
      "source": [
        "# Import library\n",
        "from tensorflow.keras.models import load_model # Digunakan untuk membantu dalam memuat model yang telah disimpan"
      ],
      "metadata": {
        "id": "1wUedJB-0Z_q"
      },
      "execution_count": null,
      "outputs": []
    },
    {
      "cell_type": "code",
      "source": [
        "# Load saved network\n",
        "load_network = load_model('network') # Memuat model dengan nama atapun path network yang sudah disimpan sebelumnya dan disimpan dalam load_network"
      ],
      "metadata": {
        "id": "D6E24QOm0hiB"
      },
      "execution_count": null,
      "outputs": []
    },
    {
      "cell_type": "code",
      "source": [
        "# Check summary\n",
        "load_network.summary() # Menampilkan detail model"
      ],
      "metadata": {
        "id": "0cB7lmOc0nlR",
        "colab": {
          "base_uri": "https://localhost:8080/"
        },
        "outputId": "8505b94f-d838-4a16-ea13-dad4208e6954"
      },
      "execution_count": null,
      "outputs": [
        {
          "output_type": "stream",
          "name": "stdout",
          "text": [
            "Model: \"sequential\"\n",
            "_________________________________________________________________\n",
            " Layer (type)                Output Shape              Param #   \n",
            "=================================================================\n",
            " conv2d (Conv2D)             (None, 26, 26, 32)        320       \n",
            "                                                                 \n",
            " max_pooling2d (MaxPooling2  (None, 13, 13, 32)        0         \n",
            " D)                                                              \n",
            "                                                                 \n",
            " conv2d_1 (Conv2D)           (None, 13, 13, 64)        18496     \n",
            "                                                                 \n",
            " max_pooling2d_1 (MaxPoolin  (None, 6, 6, 64)          0         \n",
            " g2D)                                                            \n",
            "                                                                 \n",
            " conv2d_2 (Conv2D)           (None, 4, 4, 128)         73856     \n",
            "                                                                 \n",
            " max_pooling2d_2 (MaxPoolin  (None, 2, 2, 128)         0         \n",
            " g2D)                                                            \n",
            "                                                                 \n",
            " flatten (Flatten)           (None, 512)               0         \n",
            "                                                                 \n",
            " dense (Dense)               (None, 64)                32832     \n",
            "                                                                 \n",
            " dense_1 (Dense)             (None, 128)               8320      \n",
            "                                                                 \n",
            " dense_2 (Dense)             (None, 36)                4644      \n",
            "                                                                 \n",
            "=================================================================\n",
            "Total params: 138468 (540.89 KB)\n",
            "Trainable params: 138468 (540.89 KB)\n",
            "Non-trainable params: 0 (0.00 Byte)\n",
            "_________________________________________________________________\n"
          ]
        }
      ]
    },
    {
      "cell_type": "code",
      "source": [
        "# Load Image\n",
        "import cv2 # Library yang berguna dalam visi komputer\n",
        "from google.colab.patches import cv2_imshow # Fungsi yang digunakan citra dalam google colab\n",
        "\n",
        "from google.colab import drive # Membantu dalam memanfaatkan media penyimpanan Google Drive\n",
        "drive.mount('/content/drive') # Memuat Google Drive\n",
        "\n",
        "img = cv2.imread('/content/drive/MyDrive/Machine_Learning_2023/images/b_small.png') # Mengimport dan menyimpan citra dari path kedalam variabel\n",
        "cv2_imshow(img) # Menampilkan citra"
      ],
      "metadata": {
        "id": "hbnaTxZK07JW",
        "colab": {
          "base_uri": "https://localhost:8080/",
          "height": 333
        },
        "outputId": "dfd008d4-4bab-441d-bcf4-169a30753ec1"
      },
      "execution_count": null,
      "outputs": [
        {
          "output_type": "stream",
          "name": "stdout",
          "text": [
            "Mounted at /content/drive\n"
          ]
        },
        {
          "output_type": "display_data",
          "data": {
            "text/plain": [
              "<PIL.Image.Image image mode=RGB size=298x299>"
            ],
            "image/png": "[encoded data removed]"
          },
          "metadata": {}
        }
      ]
    },
    {
      "cell_type": "code",
      "source": [
        "# Check shape\n",
        "img.shape # Menampilkan ukuran dan dimensi data img"
      ],
      "metadata": {
        "id": "EfDOYN6D1OZ9",
        "colab": {
          "base_uri": "https://localhost:8080/"
        },
        "outputId": "3b3b7d5f-8b91-4390-b155-30dae7227ea4"
      },
      "execution_count": null,
      "outputs": [
        {
          "output_type": "execute_result",
          "data": {
            "text/plain": [
              "(299, 298, 3)"
            ]
          },
          "metadata": {},
          "execution_count": 67
        }
      ]
    },
    {
      "cell_type": "code",
      "source": [
        "# Convert to gray\n",
        "gray_img = cv2.cvtColor(img, cv2.COLOR_BGR2GRAY) # Merubah citra dari BGR ke Grayscale\n",
        "\n",
        "# check shape\n",
        "gray_img.shape # Menampilkan ukuran dan dimensi data gray_img"
      ],
      "metadata": {
        "id": "7e6w1zaL1RW7",
        "colab": {
          "base_uri": "https://localhost:8080/"
        },
        "outputId": "14046ff9-4cd7-4116-f6b5-28036dced6de"
      },
      "execution_count": null,
      "outputs": [
        {
          "output_type": "execute_result",
          "data": {
            "text/plain": [
              "(299, 298)"
            ]
          },
          "metadata": {},
          "execution_count": 68
        }
      ]
    },
    {
      "cell_type": "code",
      "source": [
        "# Pre-process\n",
        "# Binary Threshold and Otsu\n",
        "value, thresh = cv2.threshold(gray_img, 0, 255, cv2.THRESH_BINARY + cv2.THRESH_OTSU) # Melakukan thresholding untuk menghasilkan citra biner\n",
        "\n",
        "cv2_imshow(thresh) # Menampilkan citra thresh\n",
        "\n",
        "# print threshold value\n",
        "print(value) # Menampilkan data value"
      ],
      "metadata": {
        "id": "9_al0IF01c3q",
        "colab": {
          "base_uri": "https://localhost:8080/",
          "height": 333
        },
        "outputId": "cb35ec5a-dc23-4309-cfc3-36b9b21b7664"
      },
      "execution_count": null,
      "outputs": [
        {
          "output_type": "display_data",
          "data": {
            "text/plain": [
              "<PIL.Image.Image image mode=L size=298x299>"
            ],
            "image/png": "[encoded data removed]"
          },
          "metadata": {}
        },
        {
          "output_type": "stream",
          "name": "stdout",
          "text": [
            "120.0\n"
          ]
        }
      ]
    },
    {
      "cell_type": "code",
      "source": [
        "# Resize image in order to match network input shape -> 28*28\n",
        "img_resize = cv2.resize(gray_img, (28,28)) # Merubah ukuran pixel citra menjadi 28 x 28\n",
        "cv2_imshow(img_resize) # Menampilkan citra img_resize"
      ],
      "metadata": {
        "id": "dmjHswqd1wB5",
        "colab": {
          "base_uri": "https://localhost:8080/",
          "height": 45
        },
        "outputId": "b809456f-8ea1-4fd9-f674-290be6c43887"
      },
      "execution_count": null,
      "outputs": [
        {
          "output_type": "display_data",
          "data": {
            "text/plain": [
              "<PIL.Image.Image image mode=L size=28x28>"
            ],
            "image/png": "[encoded data removed]"
          },
          "metadata": {}
        }
      ]
    },
    {
      "cell_type": "code",
      "source": [
        "# Convert to float 32\n",
        "# and extend the dimension since network input shape is 28*28*1\n",
        "img_input = img_resize.astype('float32') / 255 # Merubah tipe data menjadi float32 dan normalisasi data untuk menghasilkan value antara 0 sampai 1\n",
        "img_input = np.expand_dims(img_input, axis=-1) # menambah dimensi array citra\n",
        "\n",
        "# check shape\n",
        "img_input.shape # Menampilkan ukuran dan dimensi data img_input"
      ],
      "metadata": {
        "id": "bZStKgUl2Kk_",
        "colab": {
          "base_uri": "https://localhost:8080/"
        },
        "outputId": "f8a1614a-3435-4d2f-ac0b-2052b20e2a00"
      },
      "execution_count": null,
      "outputs": [
        {
          "output_type": "execute_result",
          "data": {
            "text/plain": [
              "(28, 28, 1)"
            ]
          },
          "metadata": {},
          "execution_count": 71
        }
      ]
    },
    {
      "cell_type": "code",
      "source": [
        "# Add \"amount of data\" as dimension\n",
        "img_input = np.reshape(img_input, (1,28,28,1)) # Merubah array img_input menjadi 1 batch_size dengan ukuran 28 x 28 dan 1 channel\n",
        "img_input.shape # Menampilkan ukuran dan dimensi data img_input"
      ],
      "metadata": {
        "id": "7Xs7JwKj2lxr",
        "colab": {
          "base_uri": "https://localhost:8080/"
        },
        "outputId": "c933ea17-70b6-4caa-d9a2-259351603015"
      },
      "execution_count": null,
      "outputs": [
        {
          "output_type": "execute_result",
          "data": {
            "text/plain": [
              "(1, 28, 28, 1)"
            ]
          },
          "metadata": {},
          "execution_count": 73
        }
      ]
    },
    {
      "cell_type": "code",
      "source": [
        "# Make a predition\n",
        "prediction = load_network.predict(img_input) # Melakukan prediksi berdasarkan citra img_input\n",
        "pred_label = np.argmax(prediction) # Mengambil indeks dengan nilai tertinggi\n",
        "pred_label # Menampilkan value pred_label"
      ],
      "metadata": {
        "id": "fZLWIWLs2yuX",
        "colab": {
          "base_uri": "https://localhost:8080/"
        },
        "outputId": "06bca989-5916-41a3-82bc-4999d33dd61f"
      },
      "execution_count": null,
      "outputs": [
        {
          "output_type": "stream",
          "name": "stdout",
          "text": [
            "1/1 [==============================] - 0s 272ms/step\n"
          ]
        },
        {
          "output_type": "execute_result",
          "data": {
            "text/plain": [
              "6"
            ]
          },
          "metadata": {},
          "execution_count": 74
        }
      ]
    },
    {
      "cell_type": "code",
      "source": [
        "# check label for 6\n",
        "name_labels[6] # Menampilkan value name_labels indeks ke-6"
      ],
      "metadata": {
        "id": "72Pl04hq3WNz",
        "colab": {
          "base_uri": "https://localhost:8080/",
          "height": 35
        },
        "outputId": "b62d17bb-f2ee-44c0-824a-5216a1810b87"
      },
      "execution_count": null,
      "outputs": [
        {
          "output_type": "execute_result",
          "data": {
            "text/plain": [
              "'6'"
            ],
            "application/vnd.google.colaboratory.intrinsic+json": {
              "type": "string"
            }
          },
          "metadata": {},
          "execution_count": 75
        }
      ]
    },
    {
      "cell_type": "markdown",
      "source": [
        "## Analisi Hasil\n",
        "\n",
        "> Menurut hasil dari model CNN yang sudah dilatih sebelumnya, meskipun memiliki tingkat akurasi yang tinggi, yaitu 0.96, prediksi yang diberikan untuk gambar input \"b kecil\" di atas masih belum tepat. Ini mungkin karena ada kemiripan antara \"b\" dan \"6\", sehingga model menghasilkan prediksi berdasarkan name_labels indeks ke-6 dengan nilai \"6\"."
      ],
      "metadata": {
        "id": "--9yW_bR9TXi"
      }
    }
  ]
}